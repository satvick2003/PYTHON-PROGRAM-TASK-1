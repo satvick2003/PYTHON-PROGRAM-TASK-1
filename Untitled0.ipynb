{
  "nbformat": 4,
  "nbformat_minor": 0,
  "metadata": {
    "colab": {
      "provenance": [],
      "authorship_tag": "ABX9TyNlz8ltxKLjw0G9YFLKeYjv",
      "include_colab_link": true
    },
    "kernelspec": {
      "name": "python3",
      "display_name": "Python 3"
    },
    "language_info": {
      "name": "python"
    }
  },
  "cells": [
    {
      "cell_type": "markdown",
      "metadata": {
        "id": "view-in-github",
        "colab_type": "text"
      },
      "source": [
        "<a href=\"https://colab.research.google.com/github/satvick2003/PYTHON-PROGRAM-TASK-1/blob/main/Untitled0.ipynb\" target=\"_parent\"><img src=\"https://colab.research.google.com/assets/colab-badge.svg\" alt=\"Open In Colab\"/></a>"
      ]
    },
    {
      "cell_type": "code",
      "source": [
        "import datetime\n",
        "\n",
        "class Task:\n",
        "    def __init__(self, description, due_date=None, priority=None):\n",
        "        self.description = description\n",
        "        self.due_date = due_date\n",
        "        self.priority = priority\n",
        "        self.completed = False\n",
        "\n",
        "    def __str__(self):\n",
        "        status = \"Done\" if self.completed else \"Pending\"\n",
        "        return f\"{self.description} | Due: {self.due_date if self.due_date else 'None'} | Priority: {self.priority if self.priority else 'None'} | Status: {status}\"\n",
        "\n",
        "class ToDoList:\n",
        "    def __init__(self):\n",
        "        self.tasks = []\n",
        "\n",
        "    def add_task(self, description, due_date=None, priority=None):\n",
        "        new_task = Task(description, due_date, priority)\n",
        "        self.tasks.append(new_task)\n",
        "        print(\"Task added successfully!\")\n",
        "\n",
        "    def display_tasks(self, show_completed=False):\n",
        "        if not self.tasks:\n",
        "            print(\"No tasks available.\")\n",
        "            return\n",
        "\n",
        "        for idx, task in enumerate(self.tasks):\n",
        "            if show_completed or not task.completed:\n",
        "                print(f\"{idx + 1}. {task}\")\n",
        "\n",
        "    def mark_completed(self, task_index):\n",
        "        try:\n",
        "            self.tasks[task_index].completed = True\n",
        "            print(\"Task marked as completed!\")\n",
        "        except IndexError:\n",
        "            print(\"Invalid task index.\")\n",
        "\n",
        "    def update_task(self, task_index, description=None, due_date=None, priority=None):\n",
        "        try:\n",
        "            if description:\n",
        "                self.tasks[task_index].description = description\n",
        "            if due_date:\n",
        "                self.tasks[task_index].due_date = due_date\n",
        "            if priority:\n",
        "                self.tasks[task_index].priority = priority\n",
        "            print(\"Task updated successfully!\")\n",
        "        except IndexError:\n",
        "            print(\"Invalid task index.\")\n",
        "\n",
        "    def remove_task(self, task_index):\n",
        "        try:\n",
        "            self.tasks.pop(task_index)\n",
        "            print(\"Task removed successfully!\")\n",
        "        except IndexError:\n",
        "            print(\"Invalid task index.\")\n",
        "\n",
        "def main():\n",
        "    todo_list = ToDoList()\n",
        "\n",
        "    while True:\n",
        "        print(\"\\nTo-Do List Application\")\n",
        "        print(\"1. Add Task\")\n",
        "        print(\"2. Display Tasks\")\n",
        "        print(\"3. Mark Task as Completed\")\n",
        "        print(\"4. Update Task\")\n",
        "        print(\"5. Remove Task\")\n",
        "        print(\"6. Exit\")\n",
        "\n",
        "        choice = input(\"Enter your choice: \")\n",
        "\n",
        "        if choice == '1':\n",
        "            description = input(\"Enter task description: \")\n",
        "            due_date = input(\"Enter due date (YYYY-MM-DD) [optional]: \")\n",
        "            priority = input(\"Enter priority [optional]: \")\n",
        "            todo_list.add_task(description, due_date if due_date else None, priority if priority else None)\n",
        "        elif choice == '2':\n",
        "            show_completed = input(\"Show completed tasks as well? (yes/no): \").strip().lower() == 'yes'\n",
        "            todo_list.display_tasks(show_completed)\n",
        "        elif choice == '3':\n",
        "            task_index = int(input(\"Enter task index to mark as completed: \")) - 1\n",
        "            todo_list.mark_completed(task_index)\n",
        "        elif choice == '4':\n",
        "            task_index = int(input(\"Enter task index to update: \")) - 1\n",
        "            description = input(\"Enter new description [optional]: \")\n",
        "            due_date = input(\"Enter new due date (YYYY-MM-DD) [optional]: \")\n",
        "            priority = input(\"Enter new priority [optional]: \")\n",
        "            todo_list.update_task(task_index, description if description else None, due_date if due_date else None, priority if priority else None)\n",
        "        elif choice == '5':\n",
        "            task_index = int(input(\"Enter task index to remove: \")) - 1\n",
        "            todo_list.remove_task(task_index)\n",
        "        elif choice == '6':\n",
        "            print(\"Exiting application.\")\n",
        "            break\n",
        "        else:\n",
        "            print(\"Invalid choice. Please try again.\")\n",
        "\n",
        "if __name__ == \"__main__\":\n",
        "    main()\n"
      ],
      "metadata": {
        "colab": {
          "base_uri": "https://localhost:8080/"
        },
        "id": "EDTiy1HEu6J3",
        "outputId": "a8b13115-96e2-4492-998a-5e2cc952af45"
      },
      "execution_count": null,
      "outputs": [
        {
          "name": "stdout",
          "output_type": "stream",
          "text": [
            "\n",
            "To-Do List Application\n",
            "1. Add Task\n",
            "2. Display Tasks\n",
            "3. Mark Task as Completed\n",
            "4. Update Task\n",
            "5. Remove Task\n",
            "6. Exit\n",
            "Enter your choice: 4\n",
            "Enter task index to update: 3\n",
            "Enter new description [optional]: 1\n"
          ]
        }
      ]
    }
  ]
}