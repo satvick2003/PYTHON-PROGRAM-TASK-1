{
  "nbformat": 4,
  "nbformat_minor": 0,
  "metadata": {
    "colab": {
      "provenance": [],
      "authorship_tag": "ABX9TyNlz8ltxKLjw0G9YFLKeYjv",
      "include_colab_link": true
    },
    "kernelspec": {
      "name": "python3",
      "display_name": "Python 3"
    },
    "language_info": {
      "name": "python"
    }
  },
  "cells": [
    {
      "cell_type": "markdown",
      "metadata": {
        "id": "view-in-github",
        "colab_type": "text"
      },
      "source": [
        "<a href=\"https://colab.research.google.com/github/satvick2003/PYTHON-PROGRAM-TASK-1/blob/main/Untitled0.ipynb\" target=\"_parent\"><img src=\"https://colab.research.google.com/assets/colab-badge.svg\" alt=\"Open In Colab\"/></a>"
      ]
    },
    {
      "cell_type": "code",
      "execution_count": 1,
      "metadata": {
        "colab": {
          "base_uri": "https://localhost:8080/",
          "height": 321
        },
        "id": "tNdJls6nLwpl",
        "outputId": "9d7e7a9f-2844-4d6b-a022-5b1dbf877f72"
      },
      "outputs": [
        {
          "output_type": "error",
          "ename": "KeyboardInterrupt",
          "evalue": "Interrupted by user",
          "traceback": [
            "\u001b[0;31m---------------------------------------------------------------------------\u001b[0m",
            "\u001b[0;31mKeyboardInterrupt\u001b[0m                         Traceback (most recent call last)",
            "\u001b[0;32m<ipython-input-1-8142b8d138af>\u001b[0m in \u001b[0;36m<cell line: 98>\u001b[0;34m()\u001b[0m\n\u001b[1;32m     97\u001b[0m \u001b[0;34m\u001b[0m\u001b[0m\n\u001b[1;32m     98\u001b[0m \u001b[0;32mif\u001b[0m \u001b[0m__name__\u001b[0m \u001b[0;34m==\u001b[0m \u001b[0;34m\"__main__\"\u001b[0m\u001b[0;34m:\u001b[0m\u001b[0;34m\u001b[0m\u001b[0;34m\u001b[0m\u001b[0m\n\u001b[0;32m---> 99\u001b[0;31m     \u001b[0mmain\u001b[0m\u001b[0;34m(\u001b[0m\u001b[0;34m)\u001b[0m\u001b[0;34m\u001b[0m\u001b[0;34m\u001b[0m\u001b[0m\n\u001b[0m",
            "\u001b[0;32m<ipython-input-1-8142b8d138af>\u001b[0m in \u001b[0;36mmain\u001b[0;34m()\u001b[0m\n\u001b[1;32m     72\u001b[0m         \u001b[0;32mif\u001b[0m \u001b[0mchoice\u001b[0m \u001b[0;34m==\u001b[0m \u001b[0;34m'1'\u001b[0m\u001b[0;34m:\u001b[0m\u001b[0;34m\u001b[0m\u001b[0;34m\u001b[0m\u001b[0m\n\u001b[1;32m     73\u001b[0m             \u001b[0mdescription\u001b[0m \u001b[0;34m=\u001b[0m \u001b[0minput\u001b[0m\u001b[0;34m(\u001b[0m\u001b[0;34m\"Enter task description: \"\u001b[0m\u001b[0;34m)\u001b[0m\u001b[0;34m\u001b[0m\u001b[0;34m\u001b[0m\u001b[0m\n\u001b[0;32m---> 74\u001b[0;31m             \u001b[0mdue_date\u001b[0m \u001b[0;34m=\u001b[0m \u001b[0minput\u001b[0m\u001b[0;34m(\u001b[0m\u001b[0;34m\"Enter due date (YYYY-MM-DD) [optional]: \"\u001b[0m\u001b[0;34m)\u001b[0m\u001b[0;34m\u001b[0m\u001b[0;34m\u001b[0m\u001b[0m\n\u001b[0m\u001b[1;32m     75\u001b[0m             \u001b[0mpriority\u001b[0m \u001b[0;34m=\u001b[0m \u001b[0minput\u001b[0m\u001b[0;34m(\u001b[0m\u001b[0;34m\"Enter priority [optional]: \"\u001b[0m\u001b[0;34m)\u001b[0m\u001b[0;34m\u001b[0m\u001b[0;34m\u001b[0m\u001b[0m\n\u001b[1;32m     76\u001b[0m             \u001b[0mtodo_list\u001b[0m\u001b[0;34m.\u001b[0m\u001b[0madd_task\u001b[0m\u001b[0;34m(\u001b[0m\u001b[0mdescription\u001b[0m\u001b[0;34m,\u001b[0m \u001b[0mdue_date\u001b[0m \u001b[0;32mif\u001b[0m \u001b[0mdue_date\u001b[0m \u001b[0;32melse\u001b[0m \u001b[0;32mNone\u001b[0m\u001b[0;34m,\u001b[0m \u001b[0mpriority\u001b[0m \u001b[0;32mif\u001b[0m \u001b[0mpriority\u001b[0m \u001b[0;32melse\u001b[0m \u001b[0;32mNone\u001b[0m\u001b[0;34m)\u001b[0m\u001b[0;34m\u001b[0m\u001b[0;34m\u001b[0m\u001b[0m\n",
            "\u001b[0;32m/usr/local/lib/python3.10/dist-packages/ipykernel/kernelbase.py\u001b[0m in \u001b[0;36mraw_input\u001b[0;34m(self, prompt)\u001b[0m\n\u001b[1;32m    849\u001b[0m                 \u001b[0;34m\"raw_input was called, but this frontend does not support input requests.\"\u001b[0m\u001b[0;34m\u001b[0m\u001b[0;34m\u001b[0m\u001b[0m\n\u001b[1;32m    850\u001b[0m             )\n\u001b[0;32m--> 851\u001b[0;31m         return self._input_request(str(prompt),\n\u001b[0m\u001b[1;32m    852\u001b[0m             \u001b[0mself\u001b[0m\u001b[0;34m.\u001b[0m\u001b[0m_parent_ident\u001b[0m\u001b[0;34m,\u001b[0m\u001b[0;34m\u001b[0m\u001b[0;34m\u001b[0m\u001b[0m\n\u001b[1;32m    853\u001b[0m             \u001b[0mself\u001b[0m\u001b[0;34m.\u001b[0m\u001b[0m_parent_header\u001b[0m\u001b[0;34m,\u001b[0m\u001b[0;34m\u001b[0m\u001b[0;34m\u001b[0m\u001b[0m\n",
            "\u001b[0;32m/usr/local/lib/python3.10/dist-packages/ipykernel/kernelbase.py\u001b[0m in \u001b[0;36m_input_request\u001b[0;34m(self, prompt, ident, parent, password)\u001b[0m\n\u001b[1;32m    893\u001b[0m             \u001b[0;32mexcept\u001b[0m \u001b[0mKeyboardInterrupt\u001b[0m\u001b[0;34m:\u001b[0m\u001b[0;34m\u001b[0m\u001b[0;34m\u001b[0m\u001b[0m\n\u001b[1;32m    894\u001b[0m                 \u001b[0;31m# re-raise KeyboardInterrupt, to truncate traceback\u001b[0m\u001b[0;34m\u001b[0m\u001b[0;34m\u001b[0m\u001b[0m\n\u001b[0;32m--> 895\u001b[0;31m                 \u001b[0;32mraise\u001b[0m \u001b[0mKeyboardInterrupt\u001b[0m\u001b[0;34m(\u001b[0m\u001b[0;34m\"Interrupted by user\"\u001b[0m\u001b[0;34m)\u001b[0m \u001b[0;32mfrom\u001b[0m \u001b[0;32mNone\u001b[0m\u001b[0;34m\u001b[0m\u001b[0;34m\u001b[0m\u001b[0m\n\u001b[0m\u001b[1;32m    896\u001b[0m             \u001b[0;32mexcept\u001b[0m \u001b[0mException\u001b[0m \u001b[0;32mas\u001b[0m \u001b[0me\u001b[0m\u001b[0;34m:\u001b[0m\u001b[0;34m\u001b[0m\u001b[0;34m\u001b[0m\u001b[0m\n\u001b[1;32m    897\u001b[0m                 \u001b[0mself\u001b[0m\u001b[0;34m.\u001b[0m\u001b[0mlog\u001b[0m\u001b[0;34m.\u001b[0m\u001b[0mwarning\u001b[0m\u001b[0;34m(\u001b[0m\u001b[0;34m\"Invalid Message:\"\u001b[0m\u001b[0;34m,\u001b[0m \u001b[0mexc_info\u001b[0m\u001b[0;34m=\u001b[0m\u001b[0;32mTrue\u001b[0m\u001b[0;34m)\u001b[0m\u001b[0;34m\u001b[0m\u001b[0;34m\u001b[0m\u001b[0m\n",
            "\u001b[0;31mKeyboardInterrupt\u001b[0m: Interrupted by user"
          ]
        }
      ],
      "source": [
        "import datetime\n",
        "\n",
        "class Task:\n",
        "    def __init__(self, description, due_date=None, priority=None):\n",
        "        self.description = description\n",
        "        self.due_date = due_date\n",
        "        self.priority = priority\n",
        "        self.completed = False\n",
        "\n",
        "    def __str__(self):\n",
        "        status = \"Done\" if self.completed else \"Pending\"\n",
        "        return f\"{self.description} | Due: {self.due_date if self.due_date else 'None'} | Priority: {self.priority if self.priority else 'None'} | Status: {status}\"\n",
        "\n",
        "class ToDoList:\n",
        "    def __init__(self):\n",
        "        self.tasks = []\n",
        "\n",
        "    def add_task(self, description, due_date=None, priority=None):\n",
        "        new_task = Task(description, due_date, priority)\n",
        "        self.tasks.append(new_task)\n",
        "        print(\"Task added successfully!\")\n",
        "\n",
        "    def display_tasks(self, show_completed=False):\n",
        "        if not self.tasks:\n",
        "            print(\"No tasks available.\")\n",
        "            return\n",
        "\n",
        "        for idx, task in enumerate(self.tasks):\n",
        "            if show_completed or not task.completed:\n",
        "                print(f\"{idx + 1}. {task}\")\n",
        "\n",
        "    def mark_completed(self, task_index):\n",
        "        try:\n",
        "            self.tasks[task_index].completed = True\n",
        "            print(\"Task marked as completed!\")\n",
        "        except IndexError:\n",
        "            print(\"Invalid task index.\")\n",
        "\n",
        "    def update_task(self, task_index, description=None, due_date=None, priority=None):\n",
        "        try:\n",
        "            if description:\n",
        "                self.tasks[task_index].description = description\n",
        "            if due_date:\n",
        "                self.tasks[task_index].due_date = due_date\n",
        "            if priority:\n",
        "                self.tasks[task_index].priority = priority\n",
        "            print(\"Task updated successfully!\")\n",
        "        except IndexError:\n",
        "            print(\"Invalid task index.\")\n",
        "\n",
        "    def remove_task(self, task_index):\n",
        "        try:\n",
        "            self.tasks.pop(task_index)\n",
        "            print(\"Task removed successfully!\")\n",
        "        except IndexError:\n",
        "            print(\"Invalid task index.\")\n",
        "\n",
        "def main():\n",
        "    todo_list = ToDoList()\n",
        "\n",
        "    while True:\n",
        "        print(\"\\nTo-Do List Application\")\n",
        "        print(\"1. Add Task\")\n",
        "        print(\"2. Display Tasks\")\n",
        "        print(\"3. Mark Task as Completed\")\n",
        "        print(\"4. Update Task\")\n",
        "        print(\"5. Remove Task\")\n",
        "        print(\"6. Exit\")\n",
        "\n",
        "        choice = input(\"Enter your choice: \")\n",
        "\n",
        "        if choice == '1':\n",
        "            description = input(\"Enter task description: \")\n",
        "            due_date = input(\"Enter due date (YYYY-MM-DD) [optional]: \")\n",
        "            priority = input(\"Enter priority [optional]: \")\n",
        "            todo_list.add_task(description, due_date if due_date else None, priority if priority else None)\n",
        "        elif choice == '2':\n",
        "            show_completed = input(\"Show completed tasks as well? (yes/no): \").strip().lower() == 'yes'\n",
        "            todo_list.display_tasks(show_completed)\n",
        "        elif choice == '3':\n",
        "            task_index = int(input(\"Enter task index to mark as completed: \")) - 1\n",
        "            todo_list.mark_completed(task_index)\n",
        "        elif choice == '4':\n",
        "            task_index = int(input(\"Enter task index to update: \")) - 1\n",
        "            description = input(\"Enter new description [optional]: \")\n",
        "            due_date = input(\"Enter new due date (YYYY-MM-DD) [optional]: \")\n",
        "            priority = input(\"Enter new priority [optional]: \")\n",
        "            todo_list.update_task(task_index, description if description else None, due_date if due_date else None, priority if priority else None)\n",
        "        elif choice == '5':\n",
        "            task_index = int(input(\"Enter task index to remove: \")) - 1\n",
        "            todo_list.remove_task(task_index)\n",
        "        elif choice == '6':\n",
        "            print(\"Exiting application.\")\n",
        "            break\n",
        "        else:\n",
        "            print(\"Invalid choice. Please try again.\")\n",
        "\n",
        "if __name__ == \"__main__\":\n",
        "    main()\n"
      ]
    }
  ]
}